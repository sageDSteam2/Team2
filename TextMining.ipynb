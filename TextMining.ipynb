{
 "cells": [
  {
   "cell_type": "code",
   "execution_count": 1754,
   "metadata": {},
   "outputs": [],
   "source": [
    "import requests\n",
    "from bs4 import BeautifulSoup"
   ]
  },
  {
   "cell_type": "code",
   "execution_count": 1755,
   "metadata": {},
   "outputs": [],
   "source": [
    "path = \"D:\\\\SageIT-DS\\\\biochemistry-genetics-and-molecular-biology\\\\Retrograde monosynaptic tracing through an engineered human embryonic stem cell line reveals synaptic inputs from host neurons to grafted cells - ScienceDirect.html\"\n",
    "page = open(path, 'r',encoding = 'utf-8')\n",
    "page = (page.read())"
   ]
  },
  {
   "cell_type": "code",
   "execution_count": 1756,
   "metadata": {},
   "outputs": [],
   "source": [
    "soup = BeautifulSoup(page, 'html.parser')"
   ]
  },
  {
   "cell_type": "code",
   "execution_count": 1757,
   "metadata": {},
   "outputs": [],
   "source": [
    "article = soup.find('article')\n",
    "#print(article.prettify())"
   ]
  },
  {
   "cell_type": "code",
   "execution_count": 1758,
   "metadata": {},
   "outputs": [
    {
     "name": "stdout",
     "output_type": "stream",
     "text": [
      "Retrograde monosynaptic tracing through an engineered human embryonic stem cell line reveals synaptic inputs from host neurons to grafted cells\n"
     ]
    }
   ],
   "source": [
    "#Title Extraction\n",
    "Title = article.find('span', class_=\"title-text\")\n",
    "output_title = Title.text\n",
    "print(output_title)\n"
   ]
  },
  {
   "cell_type": "code",
   "execution_count": 1759,
   "metadata": {},
   "outputs": [
    {
     "name": "stdout",
     "output_type": "stream",
     "text": [
      "Cell RegenerationVolume 8, Issue 1, June 2019, Pages 1-8\n"
     ]
    }
   ],
   "source": [
    "#4 cells extraction\n",
    "Cells = article.find('div')\n",
    "ouput_cells = Cells.text\n",
    "print(ouput_cells)\n",
    "\n"
   ]
  },
  {
   "cell_type": "code",
   "execution_count": 1760,
   "metadata": {},
   "outputs": [
    {
     "name": "stdout",
     "output_type": "stream",
     "text": [
      "QiXingabcdAipingLinabcZhenghuiSuabcChunhuaLiuabcWenhaoHuangabcWenjingGuoabcGuangjinPanabceYipingGuoabceXiaofenZhongabce\n"
     ]
    }
   ],
   "source": [
    "#Author name\n",
    "Author = article.find('div', class_ = \"wrapper truncated\")\n",
    "ouput_Author = Author.text[31:]\n",
    "print(ouput_Author)"
   ]
  },
  {
   "cell_type": "code",
   "execution_count": 1761,
   "metadata": {},
   "outputs": [],
   "source": [
    "#Highlights of the article\n",
    "#Highlights = article.find('div', class_='abstract author-highlights')\n",
    "#Highlights_text = Highlights.text\n",
    "#print(Highlights_text)\n"
   ]
  },
  {
   "cell_type": "code",
   "execution_count": 1762,
   "metadata": {},
   "outputs": [
    {
     "name": "stdout",
     "output_type": "stream",
     "text": [
      "Retrograde monosynaptic tracing with EnvA-pseudotyped rabies virus has been employed to identify the afferent and efferent connectivity of transplanted human embryonic stem (hES) cell-derived neurons in animal models. Due to the protracted development of transplanted human neurons in host animals, it is important that those transplanted cells express avian leukosis and sarcoma virus subgroup A receptor (TVA) and rabies glycoprotein G (Rgp) for a period of up to several months to enable identification of the synaptic inputs from host neurons to grafted neurons through this rabies virus-based method. Here, we report the generation of an engineered hES cell line through CRISPR/Cas9-mediated targeting to the AAVS1 locus of an EnvA-pseudotyped rabies virus-based tool for retrograde monosynaptic tracing. This engineered hES cell line, named H1-CAG-GTRgp, expresses GFP, TVA and Rgp. Upon transplantation of H1-CAG-GTRgp-derived neural progenitor cells (NPCs) into the rat brain after traumatic injury, the grafted neurons derived from H1-CAG-GTRgp cells expressed GFP, TVA, and Rgp stably for up to 6 months post-transplantation and received robust synaptic inputs from host neurons in the target regions of the orthotopic neural circuitry. The retrograde monosynaptic tracing hES cell line provides an efficient approach to analyze transplant connectivity for the comprehensive assessment of host-donor cell innervation.\n"
     ]
    }
   ],
   "source": [
    "#Abstract of the article\n",
    "Abstract = article.find('div', \"abstract author\")\n",
    "output_Abstract = Abstract.text[8:]\n",
    "print(output_Abstract)"
   ]
  },
  {
   "cell_type": "code",
   "execution_count": 1763,
   "metadata": {},
   "outputs": [
    {
     "name": "stdout",
     "output_type": "stream",
     "text": [
      "Neural progenitorsAAVS1 locusEnvA-pseudotyped rabies virusRetrograde monosynaptic tracingTransplantation\n"
     ]
    }
   ],
   "source": [
    "#Keywords \n",
    "Keywords = article.find('div', class_ = 'Keywords u-font-serif')\n",
    "ouput_Keywords = Keywords.text[8:]\n",
    "print(ouput_Keywords)"
   ]
  },
  {
   "cell_type": "code",
   "execution_count": 1764,
   "metadata": {},
   "outputs": [],
   "source": [
    "#Freqplot\n",
    "import nltk\n",
    "from nltk.tokenize import sent_tokenize, word_tokenize"
   ]
  },
  {
   "cell_type": "code",
   "execution_count": 1765,
   "metadata": {},
   "outputs": [
    {
     "name": "stdout",
     "output_type": "stream",
     "text": [
      "Retrograde monosynaptic tracing with EnvA-pseudotyped rabies virus has been employed to identify the afferent and efferent connectivity of transplanted human embryonic stem (hES) cell-derived neurons in animal models. \n",
      "\n",
      "Due to the protracted development of transplanted human neurons in host animals, it is important that those transplanted cells express avian leukosis and sarcoma virus subgroup A receptor (TVA) and rabies glycoprotein G (Rgp) for a period of up to several months to enable identification of the synaptic inputs from host neurons to grafted neurons through this rabies virus-based method. \n",
      "\n",
      "Here, we report the generation of an engineered hES cell line through CRISPR/Cas9-mediated targeting to the AAVS1 locus of an EnvA-pseudotyped rabies virus-based tool for retrograde monosynaptic tracing. \n",
      "\n",
      "This engineered hES cell line, named H1-CAG-GTRgp, expresses GFP, TVA and Rgp. \n",
      "\n",
      "Upon transplantation of H1-CAG-GTRgp-derived neural progenitor cells (NPCs) into the rat brain after traumatic injury, the grafted neurons derived from H1-CAG-GTRgp cells expressed GFP, TVA, and Rgp stably for up to 6 months post-transplantation and received robust synaptic inputs from host neurons in the target regions of the orthotopic neural circuitry. \n",
      "\n",
      "The retrograde monosynaptic tracing hES cell line provides an efficient approach to analyze transplant connectivity for the comprehensive assessment of host-donor cell innervation. \n",
      "\n"
     ]
    }
   ],
   "source": [
    "L1 = sent_tokenize(output_Abstract)\n",
    "for x in  L1:\n",
    "    print(x,\"\\n\")"
   ]
  },
  {
   "cell_type": "code",
   "execution_count": 1766,
   "metadata": {},
   "outputs": [],
   "source": [
    "from nltk.corpus import stopwords\n",
    "example_sent = output_Abstract\n",
    "\n",
    "stop_words = set(stopwords.words('english'))\n",
    "#print(stop_words)"
   ]
  },
  {
   "cell_type": "code",
   "execution_count": 1767,
   "metadata": {},
   "outputs": [
    {
     "name": "stdout",
     "output_type": "stream",
     "text": [
      "['Retrograde', 'monosynaptic', 'tracing', 'EnvA-pseudotyped', 'rabies', 'virus', 'employed', 'identify', 'afferent', 'efferent', 'connectivity', 'transplanted', 'human', 'embryonic', 'stem', '(', 'hES', ')', 'cell-derived', 'neurons', 'animal', 'models', '.', 'Due', 'protracted', 'development', 'transplanted', 'human', 'neurons', 'host', 'animals', ',', 'important', 'transplanted', 'cells', 'express', 'avian', 'leukosis', 'sarcoma', 'virus', 'subgroup', 'A', 'receptor', '(', 'TVA', ')', 'rabies', 'glycoprotein', 'G', '(', 'Rgp', ')', 'period', 'several', 'months', 'enable', 'identification', 'synaptic', 'inputs', 'host', 'neurons', 'grafted', 'neurons', 'rabies', 'virus-based', 'method', '.', 'Here', ',', 'report', 'generation', 'engineered', 'hES', 'cell', 'line', 'CRISPR/Cas9-mediated', 'targeting', 'AAVS1', 'locus', 'EnvA-pseudotyped', 'rabies', 'virus-based', 'tool', 'retrograde', 'monosynaptic', 'tracing', '.', 'This', 'engineered', 'hES', 'cell', 'line', ',', 'named', 'H1-CAG-GTRgp', ',', 'expresses', 'GFP', ',', 'TVA', 'Rgp', '.', 'Upon', 'transplantation', 'H1-CAG-GTRgp-derived', 'neural', 'progenitor', 'cells', '(', 'NPCs', ')', 'rat', 'brain', 'traumatic', 'injury', ',', 'grafted', 'neurons', 'derived', 'H1-CAG-GTRgp', 'cells', 'expressed', 'GFP', ',', 'TVA', ',', 'Rgp', 'stably', '6', 'months', 'post-transplantation', 'received', 'robust', 'synaptic', 'inputs', 'host', 'neurons', 'target', 'regions', 'orthotopic', 'neural', 'circuitry', '.', 'The', 'retrograde', 'monosynaptic', 'tracing', 'hES', 'cell', 'line', 'provides', 'efficient', 'approach', 'analyze', 'transplant', 'connectivity', 'comprehensive', 'assessment', 'host-donor', 'cell', 'innervation', '.']\n"
     ]
    }
   ],
   "source": [
    "word_tokens = word_tokenize(output_Abstract)\n",
    "filtered_sentence = []\n",
    "for w in word_tokens:\n",
    "    if w not in stop_words:\n",
    "        filtered_sentence.append(w)\n",
    "\n",
    "#print(word_tokens)\n",
    "print(filtered_sentence)"
   ]
  },
  {
   "cell_type": "code",
   "execution_count": 1768,
   "metadata": {},
   "outputs": [],
   "source": [
    "from nltk.text import Text\n",
    "\n",
    "stop_words = nltk.corpus.stopwords.words('english')\n",
    "newStopWords = [',', '.', \"?\",\";\",'&','%','also','(', ')', 'These','seems','The','In','73','40',\"'s\",'already','whereas',\n",
    "                'many','ones','Among','10','16','iv','A','10',\"main\",'seven','much','may','none','show','could'\n",
    "               'Among','wt','2.30','2.00','3.82','2.79','8.74','wt.','5','using','used','5.42','4.05','5.17',\n",
    "               '15','one','11.59','D1', 'D2','found','0.05','43','<','two','use','Over','past','would','25–40','47',\n",
    "               'This','via','high','low','⩾10','⩾80','60','3', '7','M.','could','0.1','On','This','recently','due',\n",
    "               '2010','–','M','19','23','We','among','H.','B','14','At','L.',':','N0','“','”','[',']','An','With',\n",
    "               'To','model','models','21','Our','ε4','5','E','2008','As'] # Remove words\n",
    "stop_words.extend(newStopWords)"
   ]
  },
  {
   "cell_type": "code",
   "execution_count": 1769,
   "metadata": {},
   "outputs": [
    {
     "name": "stdout",
     "output_type": "stream",
     "text": [
      "['Retrograde', 'monosynaptic', 'tracing', 'EnvA-pseudotyped', 'rabies', 'virus', 'employed', 'identify', 'afferent', 'efferent', 'connectivity', 'transplanted', 'human', 'embryonic', 'stem', 'hES', 'cell-derived', 'neurons', 'animal', 'Due', 'protracted', 'development', 'transplanted', 'human', 'neurons', 'host', 'animals', 'important', 'transplanted', 'cells', 'express', 'avian', 'leukosis', 'sarcoma', 'virus', 'subgroup', 'receptor', 'TVA', 'rabies', 'glycoprotein', 'G', 'Rgp', 'period', 'several', 'months', 'enable', 'identification', 'synaptic', 'inputs', 'host', 'neurons', 'grafted', 'neurons', 'rabies', 'virus-based', 'method', 'Here', 'report', 'generation', 'engineered', 'hES', 'cell', 'line', 'CRISPR/Cas9-mediated', 'targeting', 'AAVS1', 'locus', 'EnvA-pseudotyped', 'rabies', 'virus-based', 'tool', 'retrograde', 'monosynaptic', 'tracing', 'engineered', 'hES', 'cell', 'line', 'named', 'H1-CAG-GTRgp', 'expresses', 'GFP', 'TVA', 'Rgp', 'Upon', 'transplantation', 'H1-CAG-GTRgp-derived', 'neural', 'progenitor', 'cells', 'NPCs', 'rat', 'brain', 'traumatic', 'injury', 'grafted', 'neurons', 'derived', 'H1-CAG-GTRgp', 'cells', 'expressed', 'GFP', 'TVA', 'Rgp', 'stably', '6', 'months', 'post-transplantation', 'received', 'robust', 'synaptic', 'inputs', 'host', 'neurons', 'target', 'regions', 'orthotopic', 'neural', 'circuitry', 'retrograde', 'monosynaptic', 'tracing', 'hES', 'cell', 'line', 'provides', 'efficient', 'approach', 'analyze', 'transplant', 'connectivity', 'comprehensive', 'assessment', 'host-donor', 'cell', 'innervation']\n"
     ]
    }
   ],
   "source": [
    "filtered_sentence2 = []\n",
    "\n",
    "for w in word_tokens:\n",
    "    if w not in stop_words:\n",
    "        filtered_sentence2.append(w)\n",
    "\n",
    "#print(word_tokens)\n",
    "print(filtered_sentence2)"
   ]
  },
  {
   "cell_type": "code",
   "execution_count": 1770,
   "metadata": {},
   "outputs": [
    {
     "data": {
      "text/plain": [
       "[('neurons', 6),\n",
       " ('rabies', 4),\n",
       " ('hES', 4),\n",
       " ('cell', 4),\n",
       " ('monosynaptic', 3),\n",
       " ('tracing', 3),\n",
       " ('transplanted', 3),\n",
       " ('host', 3),\n",
       " ('cells', 3),\n",
       " ('TVA', 3)]"
      ]
     },
     "execution_count": 1770,
     "metadata": {},
     "output_type": "execute_result"
    }
   ],
   "source": [
    "Fdist = nltk.FreqDist(filtered_sentence2)\n",
    "fdist1 = Fdist.most_common(10)\n",
    "fdist1"
   ]
  },
  {
   "cell_type": "code",
   "execution_count": 1624,
   "metadata": {},
   "outputs": [
    {
     "data": {
      "image/png": "[encoded data removed]",
      "text/plain": [
       "<Figure size 432x288 with 1 Axes>"
      ]
     },
     "metadata": {
      "needs_background": "light"
     },
     "output_type": "display_data"
    }
   ],
   "source": [
    "from nltk.text import Text\n",
    "aText = Text(nltk.corpus.gutenberg.words('D:\\\\SageIT-DS\\\\HighlightsText.txt'))\n",
    "fdist = nltk.FreqDist(aText)\n",
    "stopwords = nltk.corpus.stopwords.words('english')\n",
    "newStopWords = [',', '.', \"?\",\";\",'&','%','also','(', ')', 'These','seems','The','In','73','40',\"'s\",'already','whereas',\n",
    "                'many','ones','Among','10','16','iv','A','10',\"main\",'seven','much','may','none','show','could']\n",
    "stopwords.extend(newStopWords)\n",
    "import matplotlib.pyplot as plt\n",
    "# freqdistPlot\n",
    "#fdist.plot(10, cumulative=True)\n",
    "fdist_no_punc_no_stopwords = nltk.FreqDist(dict((word, freq) for word, freq in fdist.items() if word not in stopwords and word.isalpha()))\n",
    "fdist_no_punc_no_stopwords.plot(10, cumulative=False, title=\"10 most common tokens (no stopwords or punctuation)\")"
   ]
  },
  {
   "cell_type": "code",
   "execution_count": 1771,
   "metadata": {},
   "outputs": [
    {
     "name": "stdout",
     "output_type": "stream",
     "text": [
      "['Retrograde', 'employed', 'identify', 'afferent', 'efferent', 'embryonic', 'stem', 'cell-derived', 'animal', 'Due', 'protracted', 'development', 'animals', 'important', 'express', 'avian', 'leukosis', 'sarcoma', 'subgroup', 'receptor', 'glycoprotein', 'G', 'period', 'several', 'enable', 'identification', 'method', 'Here', 'report', 'generation', 'CRISPR/Cas9-mediated', 'targeting', 'AAVS1', 'locus', 'tool', 'named', 'expresses', 'Upon', 'transplantation', 'H1-CAG-GTRgp-derived', 'progenitor', 'NPCs', 'rat', 'brain', 'traumatic', 'injury', 'derived', 'expressed', 'stably', '6', 'post-transplantation', 'received', 'robust', 'target', 'regions', 'orthotopic', 'circuitry', 'provides', 'efficient', 'approach', 'analyze', 'transplant', 'comprehensive', 'assessment', 'host-donor', 'innervation']\n"
     ]
    }
   ],
   "source": [
    "#hapaxes\n",
    "output_hapaxes =Fdist.hapaxes()\n",
    "print(output_hapaxes)"
   ]
  },
  {
   "cell_type": "code",
   "execution_count": 1626,
   "metadata": {},
   "outputs": [],
   "source": [
    "\n",
    "#print(aText.collocations())\n",
    "#print(aText)\n",
    "\n"
   ]
  },
  {
   "cell_type": "code",
   "execution_count": 1627,
   "metadata": {},
   "outputs": [],
   "source": [
    "#Visualization using wordcloud\n",
    "import nltk\n",
    "import matplotlib.pyplot as plt\n",
    "from wordcloud import WordCloud"
   ]
  },
  {
   "cell_type": "code",
   "execution_count": 389,
   "metadata": {},
   "outputs": [],
   "source": [
    "f = open(\"D:\\\\SageIT-DS\\\\HighlightsText.txt\",\"r\")\n",
    "#print(f.read())\n",
    "textContent = f.read()\n",
    "f.close()\n",
    "\n",
    "# Open, Read/write , close\n",
    "\n",
    "wordcloud = WordCloud().generate(textContent)\n",
    "\n",
    "def plot_wordcloud(wordcloud):\n",
    "    plt.imshow(wordcloud)\n",
    "    plt.axis(\"off\")\n",
    "    plt.show()"
   ]
  },
  {
   "cell_type": "code",
   "execution_count": 390,
   "metadata": {},
   "outputs": [
    {
     "data": {
      "image/png": "[encoded data removed]",
      "text/plain": [
       "<Figure size 432x288 with 1 Axes>"
      ]
     },
     "metadata": {
      "needs_background": "light"
     },
     "output_type": "display_data"
    }
   ],
   "source": [
    "plot_wordcloud(wordcloud)"
   ]
  },
  {
   "cell_type": "code",
   "execution_count": 1772,
   "metadata": {},
   "outputs": [
    {
     "name": "stdout",
     "output_type": "stream",
     "text": [
      "9\n"
     ]
    },
    {
     "data": {
      "text/html": [
       "<div>\n",
       "<style scoped>\n",
       "    .dataframe tbody tr th:only-of-type {\n",
       "        vertical-align: middle;\n",
       "    }\n",
       "\n",
       "    .dataframe tbody tr th {\n",
       "        vertical-align: top;\n",
       "    }\n",
       "\n",
       "    .dataframe thead th {\n",
       "        text-align: right;\n",
       "    }\n",
       "</style>\n",
       "<table border=\"1\" class=\"dataframe\">\n",
       "  <thead>\n",
       "    <tr style=\"text-align: right;\">\n",
       "      <th></th>\n",
       "      <th>Topic</th>\n",
       "      <th>Sub-Category</th>\n",
       "      <th>Title</th>\n",
       "      <th>Volume</th>\n",
       "      <th>Author</th>\n",
       "      <th>Abstract</th>\n",
       "      <th>Keywords</th>\n",
       "      <th>Fdist</th>\n",
       "      <th>Hapaxes</th>\n",
       "    </tr>\n",
       "  </thead>\n",
       "  <tbody>\n",
       "    <tr>\n",
       "      <th>0</th>\n",
       "      <td>Life Sciences</td>\n",
       "      <td>Biochemistry, Genetics and Molecular Biology</td>\n",
       "      <td>Retrograde monosynaptic tracing through an eng...</td>\n",
       "      <td>Cell RegenerationVolume 8, Issue 1, June 2019,...</td>\n",
       "      <td>QiXingabcdAipingLinabcZhenghuiSuabcChunhuaLiua...</td>\n",
       "      <td>Retrograde monosynaptic tracing with EnvA-pseu...</td>\n",
       "      <td>Neural progenitorsAAVS1 locusEnvA-pseudotyped ...</td>\n",
       "      <td>[(neurons, 6), (rabies, 4), (hES, 4), (cell, 4...</td>\n",
       "      <td>[Retrograde, employed, identify, afferent, eff...</td>\n",
       "    </tr>\n",
       "  </tbody>\n",
       "</table>\n",
       "</div>"
      ],
      "text/plain": [
       "           Topic                                  Sub-Category  \\\n",
       "0  Life Sciences  Biochemistry, Genetics and Molecular Biology   \n",
       "\n",
       "                                               Title  \\\n",
       "0  Retrograde monosynaptic tracing through an eng...   \n",
       "\n",
       "                                              Volume  \\\n",
       "0  Cell RegenerationVolume 8, Issue 1, June 2019,...   \n",
       "\n",
       "                                              Author  \\\n",
       "0  QiXingabcdAipingLinabcZhenghuiSuabcChunhuaLiua...   \n",
       "\n",
       "                                            Abstract  \\\n",
       "0  Retrograde monosynaptic tracing with EnvA-pseu...   \n",
       "\n",
       "                                            Keywords  \\\n",
       "0  Neural progenitorsAAVS1 locusEnvA-pseudotyped ...   \n",
       "\n",
       "                                               Fdist  \\\n",
       "0  [(neurons, 6), (rabies, 4), (hES, 4), (cell, 4...   \n",
       "\n",
       "                                             Hapaxes  \n",
       "0  [Retrograde, employed, identify, afferent, eff...  "
      ]
     },
     "execution_count": 1772,
     "metadata": {},
     "output_type": "execute_result"
    }
   ],
   "source": [
    "#Saving into CSV format\n",
    "\n",
    "#Output_list = {'Title':[output_title],'Cells':[ouput_cells],'Author':[ouput_Author],'Abstract':[output_Abstract],'Keywords':[ouput_Keywords],\n",
    "              #'fdist':[fdist],'hapaxes':[output_hapaxes]}\n",
    "Output_list = ['Life Sciences', 'Biochemistry, Genetics and Molecular Biology',output_title,ouput_cells,ouput_Author,output_Abstract,\n",
    "               ouput_Keywords,fdist1,output_hapaxes]\n",
    "import csv\n",
    "print(len(Output_list ))\n",
    "\n",
    "\n",
    "\n",
    "import pandas as pd\n",
    "from pandas import DataFrame\n",
    "df = DataFrame([Output_list], columns = ['Topic','Sub-Category','Title','Volume','Author','Abstract','Keywords','Fdist',\n",
    "                                        'Hapaxes'])\n",
    "df\n",
    "#df.to_csv(\"D:\\\\SageIT-DS\\\\TextMining-csv\\\\output.csv\", index = False)"
   ]
  },
  {
   "cell_type": "code",
   "execution_count": 1773,
   "metadata": {},
   "outputs": [],
   "source": [
    "import csv\n",
    "with open('D:\\\\SageIT-DS\\\\TextMining-csv\\\\output.csv','a',encoding=\"utf-8\") as fd:\n",
    "    testnew = csv.writer(fd)\n",
    "    testnew.writerow(Output_list)\n",
    "    "
   ]
  },
  {
   "cell_type": "code",
   "execution_count": null,
   "metadata": {},
   "outputs": [],
   "source": []
  },
  {
   "cell_type": "code",
   "execution_count": null,
   "metadata": {},
   "outputs": [],
   "source": []
  },
  {
   "cell_type": "code",
   "execution_count": null,
   "metadata": {},
   "outputs": [],
   "source": []
  },
  {
   "cell_type": "code",
   "execution_count": null,
   "metadata": {},
   "outputs": [],
   "source": []
  },
  {
   "cell_type": "code",
   "execution_count": null,
   "metadata": {},
   "outputs": [],
   "source": []
  },
  {
   "cell_type": "code",
   "execution_count": 31,
   "metadata": {},
   "outputs": [],
   "source": []
  },
  {
   "cell_type": "code",
   "execution_count": 32,
   "metadata": {},
   "outputs": [],
   "source": []
  },
  {
   "cell_type": "code",
   "execution_count": 55,
   "metadata": {},
   "outputs": [],
   "source": []
  },
  {
   "cell_type": "code",
   "execution_count": 34,
   "metadata": {},
   "outputs": [],
   "source": []
  },
  {
   "cell_type": "code",
   "execution_count": null,
   "metadata": {},
   "outputs": [],
   "source": []
  },
  {
   "cell_type": "code",
   "execution_count": null,
   "metadata": {},
   "outputs": [],
   "source": []
  }
 ],
 "metadata": {
  "kernelspec": {
   "display_name": "Python 3",
   "language": "python",
   "name": "python3"
  },
  "language_info": {
   "codemirror_mode": {
    "name": "ipython",
    "version": 3
   },
   "file_extension": ".py",
   "mimetype": "text/x-python",
   "name": "python",
   "nbconvert_exporter": "python",
   "pygments_lexer": "ipython3",
   "version": "3.7.3"
  }
 },
 "nbformat": 4,
 "nbformat_minor": 2
}
