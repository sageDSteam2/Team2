{
 "cells": [
  {
   "cell_type": "code",
   "execution_count": 1,
   "metadata": {},
   "outputs": [],
   "source": [
    "import requests\n",
    "from bs4 import BeautifulSoup"
   ]
  },
  {
   "cell_type": "code",
   "execution_count": 2,
   "metadata": {},
   "outputs": [],
   "source": [
    "path = \"D:\\\\SageIT-DS\\\\Wi-Fi is an important threat to human health - ScienceDirect.html\"\n",
    "path1 = \"D:\\\\SageIT-DS\\\\Worldwide decline of the entomofauna_ A review of its drivers - ScienceDirect.html\"\n",
    "path2 = 'D:\\\\SageIT-DS\\\\Aluminium in brain tissue in autism - ScienceDirect.html'\n",
    "path3 = 'D:\\\\SageIT-DS\\\\Bleb Formation in Human Fibrosarcoma HT1080 Cancer Cell Line Is Positively Regulated by the Lipid Signalling Phospholipase D2 (PLD2) - ScienceDirect.html'\n",
    "path4 = \"D:\\\\SageIT-DS\\\\Structure of Extracellular Polysaccharides (EPS) Produced by Rhizobia and their Functions in Legume–Bacteria Symbiosis_ — A Review - ScienceDirect.html\"\n",
    "path5 = \"D:\\\\SageIT-DS\\\\Arsenic and Cadmium Contamination in Water, Sediments and Fish is a Consequence of Paddy Cultivation_ Evidence of River Pollution in Sri Lanka - ScienceDirect.html\"\n",
    "path6 = \"D:\\\\SageIT-DS\\\\Hyperthermia_ Role and Risk Factor for Cancer Treatment - ScienceDirect.html\"\n",
    "path7 = \"D:\\\\SageIT-DS\\\\Grip Strength and Impact on Cognitive Function in Healthy Kitchen Workers - ScienceDirect.html\"\n",
    "path8 = \"D:\\\\SageIT-DS\\\\Extracellular_Circulating MicroRNAs_ Release Mechanisms, Functions and Challenges - ScienceDirect.html\"\n",
    "path9 = 'D:\\\\SageIT-DS\\\\Sub-acute Ruminal Acidosis (SARA) and its Consequence in Dairy Cattle_ A Review of Past and Recent Research at Global Prospective - ScienceDirect.html'\n",
    "page = open(path, 'r',encoding = 'utf-8')\n",
    "page = (page.read())"
   ]
  },
  {
   "cell_type": "code",
   "execution_count": 3,
   "metadata": {},
   "outputs": [],
   "source": [
    "soup = BeautifulSoup(page, 'html.parser')"
   ]
  },
  {
   "cell_type": "code",
   "execution_count": 4,
   "metadata": {},
   "outputs": [],
   "source": [
    "article = soup.find('article')\n",
    "#print(article.prettify())"
   ]
  },
  {
   "cell_type": "code",
   "execution_count": 5,
   "metadata": {},
   "outputs": [
    {
     "name": "stdout",
     "output_type": "stream",
     "text": [
      "Wi-Fi is an important threat to human health\n"
     ]
    }
   ],
   "source": [
    "#Title Extraction\n",
    "Title = article.find('span', class_=\"title-text\")\n",
    "output_title = Title.text\n",
    "print(output_title)\n"
   ]
  },
  {
   "cell_type": "code",
   "execution_count": 6,
   "metadata": {},
   "outputs": [
    {
     "name": "stdout",
     "output_type": "stream",
     "text": [
      "Environmental ResearchVolume 164, July 2018, Pages 405-416\n"
     ]
    }
   ],
   "source": [
    "#4 cells extraction\n",
    "Cells = article.find('div')\n",
    "ouput_cells = Cells.text\n",
    "print(ouput_cells)\n",
    "\n"
   ]
  },
  {
   "cell_type": "code",
   "execution_count": 7,
   "metadata": {},
   "outputs": [
    {
     "name": "stdout",
     "output_type": "stream",
     "text": [
      "Martin L.Pall\n"
     ]
    }
   ],
   "source": [
    "#Author name\n",
    "Author = article.find('div', class_ = \"wrapper truncated\")\n",
    "ouput_Author = Author.text[31:]\n",
    "print(ouput_Author)"
   ]
  },
  {
   "cell_type": "code",
   "execution_count": 9,
   "metadata": {},
   "outputs": [],
   "source": [
    "#Highlights of the article\n",
    "#Highlights = article.find('div', class_='abstract author-highlights')\n",
    "#Highlights_text = Highlights.text\n",
    "#print(Highlights_text)\n"
   ]
  },
  {
   "cell_type": "code",
   "execution_count": 10,
   "metadata": {},
   "outputs": [
    {
     "name": "stdout",
     "output_type": "stream",
     "text": [
      "AbstractRepeated Wi-Fi studies show that Wi-Fi causes oxidative stress, sperm/testicular damage, neuropsychiatric effects including EEG changes, apoptosis, cellular DNA damage, endocrine changes, and calcium overload. Each of these effects are also caused by exposures to other microwave frequency EMFs, with each such effect being documented in from 10 to 16 reviews. Therefore, each of these seven EMF effects are established effects of Wi-Fi and of other microwave frequency EMFs. Each of these seven is also produced by downstream effects of the main action of such EMFs, voltage-gated calcium channel (VGCC) activation. While VGCC activation via EMF interaction with the VGCC voltage sensor seems to be the predominant mechanism of action of EMFs, other mechanisms appear to have minor roles. Minor roles include activation of other voltage-gated ion channels, calcium cyclotron resonance and the geomagnetic magnetoreception mechanism. Five properties of non-thermal EMF effects are discussed. These are that pulsed EMFs are, in most cases, more active than are non-pulsed EMFs; artificial EMFs are polarized and such polarized EMFs are much more active than non-polarized EMFs; dose-response curves are non-linear and non-monotone; EMF effects are often cumulative; and EMFs may impact young people more than adults. These general findings and data presented earlier on Wi-Fi effects were used to assess the Foster and Moulder (F&M) review of Wi-Fi. The F&M study claimed that there were seven important studies of Wi-Fi that each showed no effect. However, none of these were Wi-Fi studies, with each differing from genuine Wi-Fi in three distinct ways. F&M could, at most conclude that there was no statistically significant evidence of an effect. The tiny numbers studied in each of these seven F&M-linked studies show that each of them lack power to make any substantive conclusions. In conclusion, there are seven repeatedly found Wi-Fi effects which have also been shown to be caused by other similar EMF exposures. Each of the seven should be considered, therefore, as established effects of Wi-Fi.\n"
     ]
    }
   ],
   "source": [
    "#Abstract of the article\n",
    "Abstract = article.find('div', \"abstract author\")\n",
    "output_Abstract = Abstract.text\n",
    "print(output_Abstract)"
   ]
  },
  {
   "cell_type": "code",
   "execution_count": 11,
   "metadata": {},
   "outputs": [
    {
     "name": "stdout",
     "output_type": "stream",
     "text": [
      "KeywordsElectromagnetic field (EMF)Brain impactTestis/sperm count and qualityImpact of pulsation and polarizationActivation of voltage-gated calcium channelsWi-Fi or WiFi\n"
     ]
    }
   ],
   "source": [
    "#Keywords \n",
    "Keywords = article.find('div', class_ = 'Keywords u-font-serif')\n",
    "ouput_Keywords = Keywords.text\n",
    "print(ouput_Keywords)"
   ]
  },
  {
   "cell_type": "code",
   "execution_count": 12,
   "metadata": {},
   "outputs": [],
   "source": [
    "#Freqplot\n",
    "import nltk\n",
    "from nltk.tokenize import sent_tokenize, word_tokenize"
   ]
  },
  {
   "cell_type": "code",
   "execution_count": 13,
   "metadata": {},
   "outputs": [
    {
     "name": "stdout",
     "output_type": "stream",
     "text": [
      "AbstractRepeated Wi-Fi studies show that Wi-Fi causes oxidative stress, sperm/testicular damage, neuropsychiatric effects including EEG changes, apoptosis, cellular DNA damage, endocrine changes, and calcium overload. \n",
      "\n",
      "Each of these effects are also caused by exposures to other microwave frequency EMFs, with each such effect being documented in from 10 to 16 reviews. \n",
      "\n",
      "Therefore, each of these seven EMF effects are established effects of Wi-Fi and of other microwave frequency EMFs. \n",
      "\n",
      "Each of these seven is also produced by downstream effects of the main action of such EMFs, voltage-gated calcium channel (VGCC) activation. \n",
      "\n",
      "While VGCC activation via EMF interaction with the VGCC voltage sensor seems to be the predominant mechanism of action of EMFs, other mechanisms appear to have minor roles. \n",
      "\n",
      "Minor roles include activation of other voltage-gated ion channels, calcium cyclotron resonance and the geomagnetic magnetoreception mechanism. \n",
      "\n",
      "Five properties of non-thermal EMF effects are discussed. \n",
      "\n",
      "These are that pulsed EMFs are, in most cases, more active than are non-pulsed EMFs; artificial EMFs are polarized and such polarized EMFs are much more active than non-polarized EMFs; dose-response curves are non-linear and non-monotone; EMF effects are often cumulative; and EMFs may impact young people more than adults. \n",
      "\n",
      "These general findings and data presented earlier on Wi-Fi effects were used to assess the Foster and Moulder (F&M) review of Wi-Fi. \n",
      "\n",
      "The F&M study claimed that there were seven important studies of Wi-Fi that each showed no effect. \n",
      "\n",
      "However, none of these were Wi-Fi studies, with each differing from genuine Wi-Fi in three distinct ways. \n",
      "\n",
      "F&M could, at most conclude that there was no statistically significant evidence of an effect. \n",
      "\n",
      "The tiny numbers studied in each of these seven F&M-linked studies show that each of them lack power to make any substantive conclusions. \n",
      "\n",
      "In conclusion, there are seven repeatedly found Wi-Fi effects which have also been shown to be caused by other similar EMF exposures. \n",
      "\n",
      "Each of the seven should be considered, therefore, as established effects of Wi-Fi. \n",
      "\n"
     ]
    }
   ],
   "source": [
    "L1 = sent_tokenize(output_Abstract)\n",
    "for x in  L1:\n",
    "    print(x,\"\\n\")"
   ]
  },
  {
   "cell_type": "code",
   "execution_count": 14,
   "metadata": {},
   "outputs": [],
   "source": [
    "from nltk.corpus import stopwords\n",
    "example_sent = output_Abstract\n",
    "\n",
    "stop_words = set(stopwords.words('english'))\n",
    "#print(stop_words)"
   ]
  },
  {
   "cell_type": "code",
   "execution_count": 15,
   "metadata": {},
   "outputs": [
    {
     "name": "stdout",
     "output_type": "stream",
     "text": [
      "['AbstractRepeated', 'Wi-Fi', 'studies', 'show', 'Wi-Fi', 'causes', 'oxidative', 'stress', ',', 'sperm/testicular', 'damage', ',', 'neuropsychiatric', 'effects', 'including', 'EEG', 'changes', ',', 'apoptosis', ',', 'cellular', 'DNA', 'damage', ',', 'endocrine', 'changes', ',', 'calcium', 'overload', '.', 'Each', 'effects', 'also', 'caused', 'exposures', 'microwave', 'frequency', 'EMFs', ',', 'effect', 'documented', '10', '16', 'reviews', '.', 'Therefore', ',', 'seven', 'EMF', 'effects', 'established', 'effects', 'Wi-Fi', 'microwave', 'frequency', 'EMFs', '.', 'Each', 'seven', 'also', 'produced', 'downstream', 'effects', 'main', 'action', 'EMFs', ',', 'voltage-gated', 'calcium', 'channel', '(', 'VGCC', ')', 'activation', '.', 'While', 'VGCC', 'activation', 'via', 'EMF', 'interaction', 'VGCC', 'voltage', 'sensor', 'seems', 'predominant', 'mechanism', 'action', 'EMFs', ',', 'mechanisms', 'appear', 'minor', 'roles', '.', 'Minor', 'roles', 'include', 'activation', 'voltage-gated', 'ion', 'channels', ',', 'calcium', 'cyclotron', 'resonance', 'geomagnetic', 'magnetoreception', 'mechanism', '.', 'Five', 'properties', 'non-thermal', 'EMF', 'effects', 'discussed', '.', 'These', 'pulsed', 'EMFs', ',', 'cases', ',', 'active', 'non-pulsed', 'EMFs', ';', 'artificial', 'EMFs', 'polarized', 'polarized', 'EMFs', 'much', 'active', 'non-polarized', 'EMFs', ';', 'dose-response', 'curves', 'non-linear', 'non-monotone', ';', 'EMF', 'effects', 'often', 'cumulative', ';', 'EMFs', 'may', 'impact', 'young', 'people', 'adults', '.', 'These', 'general', 'findings', 'data', 'presented', 'earlier', 'Wi-Fi', 'effects', 'used', 'assess', 'Foster', 'Moulder', '(', 'F', '&', 'M', ')', 'review', 'Wi-Fi', '.', 'The', 'F', '&', 'M', 'study', 'claimed', 'seven', 'important', 'studies', 'Wi-Fi', 'showed', 'effect', '.', 'However', ',', 'none', 'Wi-Fi', 'studies', ',', 'differing', 'genuine', 'Wi-Fi', 'three', 'distinct', 'ways', '.', 'F', '&', 'M', 'could', ',', 'conclude', 'statistically', 'significant', 'evidence', 'effect', '.', 'The', 'tiny', 'numbers', 'studied', 'seven', 'F', '&', 'M-linked', 'studies', 'show', 'lack', 'power', 'make', 'substantive', 'conclusions', '.', 'In', 'conclusion', ',', 'seven', 'repeatedly', 'found', 'Wi-Fi', 'effects', 'also', 'shown', 'caused', 'similar', 'EMF', 'exposures', '.', 'Each', 'seven', 'considered', ',', 'therefore', ',', 'established', 'effects', 'Wi-Fi', '.']\n"
     ]
    }
   ],
   "source": [
    "word_tokens = word_tokenize(output_Abstract)\n",
    "filtered_sentence = []\n",
    "for w in word_tokens:\n",
    "    if w not in stop_words:\n",
    "        filtered_sentence.append(w)\n",
    "\n",
    "#print(word_tokens)\n",
    "print(filtered_sentence)"
   ]
  },
  {
   "cell_type": "code",
   "execution_count": 16,
   "metadata": {},
   "outputs": [],
   "source": [
    "from nltk.text import Text\n",
    "\n",
    "stop_words = nltk.corpus.stopwords.words('english')\n",
    "newStopWords = [',', '.', \"?\",\";\",\"Ca2+\",\"aspects\",'&'] # Remove words\n",
    "stop_words.extend(newStopWords)"
   ]
  },
  {
   "cell_type": "code",
   "execution_count": 17,
   "metadata": {},
   "outputs": [
    {
     "name": "stdout",
     "output_type": "stream",
     "text": [
      "['AbstractRepeated', 'Wi-Fi', 'studies', 'show', 'Wi-Fi', 'causes', 'oxidative', 'stress', 'sperm/testicular', 'damage', 'neuropsychiatric', 'effects', 'including', 'EEG', 'changes', 'apoptosis', 'cellular', 'DNA', 'damage', 'endocrine', 'changes', 'calcium', 'overload', 'Each', 'effects', 'also', 'caused', 'exposures', 'microwave', 'frequency', 'EMFs', 'effect', 'documented', '10', '16', 'reviews', 'Therefore', 'seven', 'EMF', 'effects', 'established', 'effects', 'Wi-Fi', 'microwave', 'frequency', 'EMFs', 'Each', 'seven', 'also', 'produced', 'downstream', 'effects', 'main', 'action', 'EMFs', 'voltage-gated', 'calcium', 'channel', '(', 'VGCC', ')', 'activation', 'While', 'VGCC', 'activation', 'via', 'EMF', 'interaction', 'VGCC', 'voltage', 'sensor', 'seems', 'predominant', 'mechanism', 'action', 'EMFs', 'mechanisms', 'appear', 'minor', 'roles', 'Minor', 'roles', 'include', 'activation', 'voltage-gated', 'ion', 'channels', 'calcium', 'cyclotron', 'resonance', 'geomagnetic', 'magnetoreception', 'mechanism', 'Five', 'properties', 'non-thermal', 'EMF', 'effects', 'discussed', 'These', 'pulsed', 'EMFs', 'cases', 'active', 'non-pulsed', 'EMFs', 'artificial', 'EMFs', 'polarized', 'polarized', 'EMFs', 'much', 'active', 'non-polarized', 'EMFs', 'dose-response', 'curves', 'non-linear', 'non-monotone', 'EMF', 'effects', 'often', 'cumulative', 'EMFs', 'may', 'impact', 'young', 'people', 'adults', 'These', 'general', 'findings', 'data', 'presented', 'earlier', 'Wi-Fi', 'effects', 'used', 'assess', 'Foster', 'Moulder', '(', 'F', 'M', ')', 'review', 'Wi-Fi', 'The', 'F', 'M', 'study', 'claimed', 'seven', 'important', 'studies', 'Wi-Fi', 'showed', 'effect', 'However', 'none', 'Wi-Fi', 'studies', 'differing', 'genuine', 'Wi-Fi', 'three', 'distinct', 'ways', 'F', 'M', 'could', 'conclude', 'statistically', 'significant', 'evidence', 'effect', 'The', 'tiny', 'numbers', 'studied', 'seven', 'F', 'M-linked', 'studies', 'show', 'lack', 'power', 'make', 'substantive', 'conclusions', 'In', 'conclusion', 'seven', 'repeatedly', 'found', 'Wi-Fi', 'effects', 'also', 'shown', 'caused', 'similar', 'EMF', 'exposures', 'Each', 'seven', 'considered', 'therefore', 'established', 'effects', 'Wi-Fi']\n"
     ]
    }
   ],
   "source": [
    "filtered_sentence2 = []\n",
    "\n",
    "for w in word_tokens:\n",
    "    if w not in stop_words:\n",
    "        filtered_sentence2.append(w)\n",
    "\n",
    "#print(word_tokens)\n",
    "print(filtered_sentence2)"
   ]
  },
  {
   "cell_type": "code",
   "execution_count": 18,
   "metadata": {},
   "outputs": [
    {
     "data": {
      "text/plain": [
       "FreqDist({'Wi-Fi': 10, 'effects': 10, 'EMFs': 10, 'seven': 6, 'EMF': 5, 'studies': 4, 'F': 4, 'calcium': 3, 'Each': 3, 'also': 3, ...})"
      ]
     },
     "execution_count": 18,
     "metadata": {},
     "output_type": "execute_result"
    }
   ],
   "source": [
    "fdist = nltk.FreqDist(filtered_sentence2)\n",
    "fdist"
   ]
  },
  {
   "cell_type": "code",
   "execution_count": 20,
   "metadata": {},
   "outputs": [
    {
     "data": {
      "image/png": "[encoded data removed]",
      "text/plain": [
       "<Figure size 432x288 with 1 Axes>"
      ]
     },
     "metadata": {
      "needs_background": "light"
     },
     "output_type": "display_data"
    }
   ],
   "source": [
    "from nltk.text import Text\n",
    "aText = Text(nltk.corpus.gutenberg.words('D:\\\\SageIT-DS\\\\HighlightsText.txt'))\n",
    "fdist = nltk.FreqDist(aText)\n",
    "stopwords = nltk.corpus.stopwords.words('english')\n",
    "newStopWords = ['has', \".\",\"?\",\",\",\"The\"]\n",
    "stopwords.extend(newStopWords)\n",
    "import matplotlib.pyplot as plt\n",
    "fdist_no_punc_no_stopwords = nltk.FreqDist(dict((word, freq) for word, freq in fdist.items() if word not in stopwords and word.isalpha()))\n",
    "fdist_no_punc_no_stopwords.plot(10, cumulative=False, title=\"10 most common tokens (no stopwords or punctuation)\")"
   ]
  },
  {
   "cell_type": "code",
   "execution_count": 21,
   "metadata": {},
   "outputs": [
    {
     "name": "stdout",
     "output_type": "stream",
     "text": [
      "<FreqDist with 180 samples and 415 outcomes>\n",
      "['ï', '»¿', 'AbstractRepeated', 'causes', 'oxidative', 'stress', 'sperm', '/', 'testicular', 'neuropsychiatric', 'including', 'EEG', 'apoptosis', 'cellular', 'DNA', 'endocrine', 'overload', 'being', 'documented', '10', '16', 'reviews', 'Therefore', 'is', 'produced', 'downstream', 'main', 'channel', 'While', 'via', 'interaction', 'sensor', 'seems', 'predominant', 'mechanisms', 'appear', 'minor', 'Minor', 'include', 'ion', 'channels', 'cyclotron', 'resonance', 'geomagnetic', 'magnetoreception', 'Five', 'properties', 'thermal', 'discussed', 'cases', 'artificial', 'much', 'dose', 'response', 'curves', 'linear', 'monotone', 'often', 'cumulative', 'may', 'impact', 'young', 'people', 'adults', 'general', 'findings', 'data', 'presented', 'earlier', 'on', 'used', 'assess', 'Foster', 'Moulder', 'review', 'study', 'claimed', 'important', 'showed', 'However', 'none', 'differing', 'genuine', 'three', 'distinct', 'ways', 'could', 'at', 'conclude', 'was', 'statistically', 'significant', 'evidence', 'an', 'tiny', 'numbers', 'studied', 'linked', 'them', 'lack', 'power', 'make', 'any', 'substantive', 'conclusions', 'In', 'conclusion', 'repeatedly', 'found', 'which', 'been', 'shown', 'similar', 'should', 'considered', 'therefore', 'as']\n"
     ]
    }
   ],
   "source": [
    "#hapaxes\n",
    "print(fdist)\n",
    "output_hapaxes =fdist.hapaxes()\n",
    "print(output_hapaxes)"
   ]
  },
  {
   "cell_type": "code",
   "execution_count": 33,
   "metadata": {},
   "outputs": [],
   "source": [
    "#collocations\n",
    "\n",
    "ouput_collocations = aText.collocations()\n",
    "ouput_collocations\n",
    "\n"
   ]
  },
  {
   "cell_type": "code",
   "execution_count": 27,
   "metadata": {},
   "outputs": [],
   "source": [
    "#Visualization using wordcloud\n",
    "import nltk\n",
    "import matplotlib.pyplot as plt\n",
    "from wordcloud import WordCloud"
   ]
  },
  {
   "cell_type": "code",
   "execution_count": 28,
   "metadata": {},
   "outputs": [],
   "source": [
    "f = open(\"D:\\\\SageIT-DS\\\\HighlightsText.txt\",\"r\")\n",
    "#print(f.read())\n",
    "textContent = f.read()\n",
    "f.close()\n",
    "\n",
    "# Open, Read/write , close\n",
    "\n",
    "wordcloud = WordCloud().generate(textContent)\n",
    "\n",
    "def plot_wordcloud(wordcloud):\n",
    "    plt.imshow(wordcloud)\n",
    "    plt.axis(\"off\")\n",
    "    plt.show()"
   ]
  },
  {
   "cell_type": "code",
   "execution_count": 29,
   "metadata": {},
   "outputs": [
    {
     "data": {
      "image/png": "[encoded data removed]",
      "text/plain": [
       "<Figure size 432x288 with 1 Axes>"
      ]
     },
     "metadata": {
      "needs_background": "light"
     },
     "output_type": "display_data"
    }
   ],
   "source": [
    "plot_wordcloud(wordcloud)"
   ]
  },
  {
   "cell_type": "code",
   "execution_count": 35,
   "metadata": {},
   "outputs": [],
   "source": [
    "#Saving into CSV format\n",
    "\n",
    "Output_list = {'OUTPUT':[output_title,ouput_cells,ouput_Author,output_Abstract,ouput_Keywords,fdist,output_hapaxes,\n",
    "                         ouput_collocations]}\n",
    "\n",
    "import csv\n",
    "print(len(Output_list ))\n",
    "\n",
    "\n",
    "\n",
    "import pandas as pd\n",
    "from pandas import DataFrame\n",
    "df = DataFrame(Output_list, columns= ['OUTPUT'])\n",
    "df.to_csv(\"D:\\\\SageIT-DS\\\\TextMining-csv\\\\record_output.csv\")"
   ]
  },
  {
   "cell_type": "code",
   "execution_count": null,
   "metadata": {},
   "outputs": [],
   "source": []
  },
  {
   "cell_type": "code",
   "execution_count": null,
   "metadata": {},
   "outputs": [],
   "source": []
  },
  {
   "cell_type": "code",
   "execution_count": null,
   "metadata": {},
   "outputs": [],
   "source": []
  },
  {
   "cell_type": "code",
   "execution_count": null,
   "metadata": {},
   "outputs": [],
   "source": []
  },
  {
   "cell_type": "code",
   "execution_count": null,
   "metadata": {},
   "outputs": [],
   "source": []
  },
  {
   "cell_type": "code",
   "execution_count": null,
   "metadata": {},
   "outputs": [],
   "source": []
  },
  {
   "cell_type": "code",
   "execution_count": 31,
   "metadata": {},
   "outputs": [],
   "source": []
  },
  {
   "cell_type": "code",
   "execution_count": 32,
   "metadata": {},
   "outputs": [],
   "source": []
  },
  {
   "cell_type": "code",
   "execution_count": 55,
   "metadata": {},
   "outputs": [],
   "source": []
  },
  {
   "cell_type": "code",
   "execution_count": 34,
   "metadata": {},
   "outputs": [],
   "source": []
  },
  {
   "cell_type": "code",
   "execution_count": null,
   "metadata": {},
   "outputs": [],
   "source": []
  },
  {
   "cell_type": "code",
   "execution_count": null,
   "metadata": {},
   "outputs": [],
   "source": []
  }
 ],
 "metadata": {
  "kernelspec": {
   "display_name": "Python 3",
   "language": "python",
   "name": "python3"
  },
  "language_info": {
   "codemirror_mode": {
    "name": "ipython",
    "version": 3
   },
   "file_extension": ".py",
   "mimetype": "text/x-python",
   "name": "python",
   "nbconvert_exporter": "python",
   "pygments_lexer": "ipython3",
   "version": "3.7.3"
  }
 },
 "nbformat": 4,
 "nbformat_minor": 2
}
